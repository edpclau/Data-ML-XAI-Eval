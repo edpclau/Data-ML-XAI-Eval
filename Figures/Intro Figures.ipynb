{
 "cells": [
  {
   "cell_type": "code",
   "execution_count": 305,
   "metadata": {},
   "outputs": [],
   "source": [
    "#XAI\n",
    "import shap\n",
    "import shapflow\n",
    "from shapflow.flow import Node, CreditFlow, Graph, GraphExplainer, sample_graph, eval_graph, CausalLinks, translator, create_linear_f, node_dict2str_dict\n",
    "from shapflow.on_manifold import OnManifoldExplainer, IndExplainer, FeatureAttribution\n",
    "\n",
    "# Data wrangling\n",
    "import pandas as pd\n",
    "import joblib\n",
    "from sklearn.model_selection import train_test_split\n",
    "import numpy as np\n",
    "\n"
   ]
  },
  {
   "cell_type": "code",
   "execution_count": 330,
   "metadata": {},
   "outputs": [],
   "source": [
    "## Build a faux model for the data\n",
    "## This will only work for ShapSampling and ShapKernel, or ShapPermutation\n",
    "\n",
    "class faux_model:\n",
    "  def __init__(self):\n",
    "      self.name = 'FauxModel'\n",
    "\n",
    "  @staticmethod\n",
    "  def predict(x):\n",
    "    if str(type(x)).__contains__('pandas'):\n",
    "      x = x.to_numpy()\n",
    "\n",
    "    return x[:,0:3].prod(axis = 1)\n",
    "\n",
    "  def predict_proba(self, x):\n",
    "    yhat = self.predict(x)\n",
    "    return np.array([np.where(yhat == 0, 1, 0),yhat]).T\n",
    "\n",
    "\n",
    "# y = data['3_vars_corr_2HC_n10000.csv']['y_test']\n",
    "# x = data['3_vars_corr_2HC_n10000.csv']['X_test']"
   ]
  },
  {
   "cell_type": "code",
   "execution_count": 307,
   "metadata": {},
   "outputs": [
    {
     "name": "stdout",
     "output_type": "stream",
     "text": [
      "Index(['HC1', 'HC2', 'C1', 'C2', 'C3', 'Noise'], dtype='object')\n"
     ]
    }
   ],
   "source": [
    "data_path = '/Users/eddie/Library/CloudStorage/OneDrive-UniversityofPittsburgh/Research/Projects/Explainability Method Comparison/Data-ML-XAI-Eval/Synthetic Data/Data Files without Hidden Confounders/3_vars_corr_2HC_n100.csv'\n",
    "df = pd.read_csv(data_path)\n",
    "\n",
    "# df.columns = ['Feature 1', 'Feature 2', 'Feature 3', 'Noise', 'Target']\n",
    "train, test = train_test_split(df, test_size=0.25, random_state=42)\n",
    "data = {\n",
    "    'X_train': train.drop('Target', axis=1),\n",
    "    'y_train': train.Target,\n",
    "    'X_test': test.drop('Target', axis=1),\n",
    "    'y_test': test.Target\n",
    "}\n",
    "\n",
    "print(data['X_test'].columns)"
   ]
  },
  {
   "cell_type": "code",
   "execution_count": 303,
   "metadata": {},
   "outputs": [
    {
     "name": "stdout",
     "output_type": "stream",
     "text": [
      "[0.         0.         0.1693037  0.2621037  0.09694815 0.        ]\n"
     ]
    },
    {
     "data": {
      "image/png": "[encoded data removed]",
      "text/plain": [
       "<Figure size 576x324 with 1 Axes>"
      ]
     },
     "metadata": {},
     "output_type": "display_data"
    }
   ],
   "source": [
    "explainer = shap.explainers.Permutation(faux_model().predict, data['X_train'])\n",
    "values = explainer(data['X_test'])\n",
    "\n",
    "print(np.mean(np.abs(values.values), axis = 0))\n",
    "\n",
    "shap.plots.bar(values)\n",
    "\n",
    "# shap.waterfall_plot(values[100])"
   ]
  },
  {
   "cell_type": "code",
   "execution_count": 349,
   "metadata": {},
   "outputs": [
    {
     "name": "stderr",
     "output_type": "stream",
     "text": [
      "learning dependency for C2:   0%|          | 0/3 [00:00<?, ?it/s]"
     ]
    },
    {
     "name": "stdout",
     "output_type": "stream",
     "text": [
      "[0]\ttest-rmse:0.49952\n",
      "[100]\ttest-rmse:0.45867\n"
     ]
    },
    {
     "name": "stderr",
     "output_type": "stream",
     "text": [
      "pandas.Int64Index is deprecated and will be removed from pandas in a future version. Use pandas.Index with the appropriate dtype instead.\n"
     ]
    },
    {
     "name": "stdout",
     "output_type": "stream",
     "text": [
      "[200]\ttest-rmse:0.42760\n",
      "[300]\ttest-rmse:0.40326\n",
      "[400]\ttest-rmse:0.38561\n",
      "[499]\ttest-rmse:0.37157\n"
     ]
    },
    {
     "name": "stderr",
     "output_type": "stream",
     "text": [
      "learning dependency for C3:  33%|███▎      | 1/3 [00:00<00:01,  1.21it/s]"
     ]
    },
    {
     "name": "stdout",
     "output_type": "stream",
     "text": [
      "[0]\ttest-rmse:0.49915\n"
     ]
    },
    {
     "name": "stderr",
     "output_type": "stream",
     "text": [
      "pandas.Int64Index is deprecated and will be removed from pandas in a future version. Use pandas.Index with the appropriate dtype instead.\n"
     ]
    },
    {
     "name": "stdout",
     "output_type": "stream",
     "text": [
      "[100]\ttest-rmse:0.42138\n",
      "[200]\ttest-rmse:0.35568\n",
      "[300]\ttest-rmse:0.30087\n",
      "[400]\ttest-rmse:0.25560\n",
      "[499]\ttest-rmse:0.21814\n"
     ]
    },
    {
     "name": "stderr",
     "output_type": "stream",
     "text": [
      "learning dependency for C1:  67%|██████▋   | 2/3 [00:01<00:00,  1.24it/s]"
     ]
    },
    {
     "name": "stdout",
     "output_type": "stream",
     "text": [
      "[0]\ttest-rmse:0.49949\n",
      "[100]\ttest-rmse:0.45088\n"
     ]
    },
    {
     "name": "stderr",
     "output_type": "stream",
     "text": [
      "pandas.Int64Index is deprecated and will be removed from pandas in a future version. Use pandas.Index with the appropriate dtype instead.\n"
     ]
    },
    {
     "name": "stdout",
     "output_type": "stream",
     "text": [
      "[200]\ttest-rmse:0.41335\n",
      "[300]\ttest-rmse:0.38664\n",
      "[400]\ttest-rmse:0.36757\n",
      "[499]\ttest-rmse:0.35434\n"
     ]
    },
    {
     "name": "stderr",
     "output_type": "stream",
     "text": [
      "learning dependency for C1: 100%|██████████| 3/3 [00:02<00:00,  1.30it/s]\n"
     ]
    },
    {
     "data": {
      "image/svg+xml": [
       "<?xml version=\"1.0\" encoding=\"UTF-8\" standalone=\"no\"?>\n",
       "<!DOCTYPE svg PUBLIC \"-//W3C//DTD SVG 1.1//EN\"\n",
       " \"http://www.w3.org/Graphics/SVG/1.1/DTD/svg11.dtd\">\n",
       "<!-- Generated by graphviz version 2.50.0 (0)\n",
       " -->\n",
       "<!-- Pages: 1 -->\n",
       "<svg width=\"286pt\" height=\"188pt\"\n",
       " viewBox=\"0.00 0.00 286.20 188.00\" xmlns=\"http://www.w3.org/2000/svg\" xmlns:xlink=\"http://www.w3.org/1999/xlink\">\n",
       "<g id=\"graph0\" class=\"graph\" transform=\"scale(1 1) rotate(0) translate(4 184)\">\n",
       "<polygon fill=\"white\" stroke=\"transparent\" points=\"-4,4 -4,-184 282.2,-184 282.2,4 -4,4\"/>\n",
       "<!-- C1 -->\n",
       "<g id=\"node1\" class=\"node\">\n",
       "<title>C1</title>\n",
       "<ellipse fill=\"none\" stroke=\"black\" cx=\"27\" cy=\"-90\" rx=\"27\" ry=\"18\"/>\n",
       "<text text-anchor=\"middle\" x=\"27\" y=\"-86.3\" font-family=\"Times,serif\" font-size=\"14.00\">C1</text>\n",
       "</g>\n",
       "<!-- Predicted Target -->\n",
       "<g id=\"node2\" class=\"node\">\n",
       "<title>Predicted Target</title>\n",
       "<ellipse fill=\"none\" stroke=\"black\" cx=\"135\" cy=\"-162\" rx=\"68.79\" ry=\"18\"/>\n",
       "<text text-anchor=\"middle\" x=\"135\" y=\"-158.3\" font-family=\"Times,serif\" font-size=\"14.00\">Predicted Target</text>\n",
       "</g>\n",
       "<!-- C1&#45;&gt;Predicted Target -->\n",
       "<g id=\"edge1\" class=\"edge\">\n",
       "<title>C1&#45;&gt;Predicted Target</title>\n",
       "<path fill=\"none\" stroke=\"black\" d=\"M45.81,-103.19C61.19,-113.16 83.3,-127.49 101.66,-139.39\"/>\n",
       "<polygon fill=\"black\" stroke=\"black\" points=\"100.03,-142.5 110.32,-145.01 103.84,-136.63 100.03,-142.5\"/>\n",
       "</g>\n",
       "<!-- HC1 -->\n",
       "<g id=\"node3\" class=\"node\">\n",
       "<title>HC1</title>\n",
       "<ellipse fill=\"none\" stroke=\"black\" cx=\"62\" cy=\"-18\" rx=\"27.1\" ry=\"18\"/>\n",
       "<text text-anchor=\"middle\" x=\"62\" y=\"-14.3\" font-family=\"Times,serif\" font-size=\"14.00\">HC1</text>\n",
       "</g>\n",
       "<!-- HC1&#45;&gt;C1 -->\n",
       "<g id=\"edge2\" class=\"edge\">\n",
       "<title>HC1&#45;&gt;C1</title>\n",
       "<path fill=\"none\" stroke=\"black\" d=\"M53.88,-35.24C49.7,-43.6 44.51,-53.98 39.8,-63.39\"/>\n",
       "<polygon fill=\"black\" stroke=\"black\" points=\"36.66,-61.86 35.32,-72.37 42.92,-64.99 36.66,-61.86\"/>\n",
       "</g>\n",
       "<!-- C3 -->\n",
       "<g id=\"node4\" class=\"node\">\n",
       "<title>C3</title>\n",
       "<ellipse fill=\"none\" stroke=\"black\" cx=\"99\" cy=\"-90\" rx=\"27\" ry=\"18\"/>\n",
       "<text text-anchor=\"middle\" x=\"99\" y=\"-86.3\" font-family=\"Times,serif\" font-size=\"14.00\">C3</text>\n",
       "</g>\n",
       "<!-- HC1&#45;&gt;C3 -->\n",
       "<g id=\"edge3\" class=\"edge\">\n",
       "<title>HC1&#45;&gt;C3</title>\n",
       "<path fill=\"none\" stroke=\"black\" d=\"M70.58,-35.24C75.06,-43.72 80.65,-54.29 85.68,-63.8\"/>\n",
       "<polygon fill=\"black\" stroke=\"black\" points=\"82.7,-65.65 90.46,-72.85 88.89,-62.38 82.7,-65.65\"/>\n",
       "</g>\n",
       "<!-- C2 -->\n",
       "<g id=\"node5\" class=\"node\">\n",
       "<title>C2</title>\n",
       "<ellipse fill=\"none\" stroke=\"black\" cx=\"171\" cy=\"-90\" rx=\"27\" ry=\"18\"/>\n",
       "<text text-anchor=\"middle\" x=\"171\" y=\"-86.3\" font-family=\"Times,serif\" font-size=\"14.00\">C2</text>\n",
       "</g>\n",
       "<!-- HC1&#45;&gt;C2 -->\n",
       "<g id=\"edge4\" class=\"edge\">\n",
       "<title>HC1&#45;&gt;C2</title>\n",
       "<path fill=\"none\" stroke=\"black\" d=\"M80.99,-31.19C98.34,-42.33 124.19,-58.94 143.74,-71.5\"/>\n",
       "<polygon fill=\"black\" stroke=\"black\" points=\"141.93,-74.49 152.23,-76.95 145.71,-68.6 141.93,-74.49\"/>\n",
       "</g>\n",
       "<!-- C3&#45;&gt;Predicted Target -->\n",
       "<g id=\"edge8\" class=\"edge\">\n",
       "<title>C3&#45;&gt;Predicted Target</title>\n",
       "<path fill=\"none\" stroke=\"black\" d=\"M107.35,-107.24C111.54,-115.39 116.73,-125.47 121.47,-134.69\"/>\n",
       "<polygon fill=\"black\" stroke=\"black\" points=\"118.51,-136.58 126.19,-143.88 124.73,-133.38 118.51,-136.58\"/>\n",
       "</g>\n",
       "<!-- C2&#45;&gt;Predicted Target -->\n",
       "<g id=\"edge9\" class=\"edge\">\n",
       "<title>C2&#45;&gt;Predicted Target</title>\n",
       "<path fill=\"none\" stroke=\"black\" d=\"M162.65,-107.24C158.46,-115.39 153.27,-125.47 148.53,-134.69\"/>\n",
       "<polygon fill=\"black\" stroke=\"black\" points=\"145.27,-133.38 143.81,-143.88 151.49,-136.58 145.27,-133.38\"/>\n",
       "</g>\n",
       "<!-- HC2 -->\n",
       "<g id=\"node6\" class=\"node\">\n",
       "<title>HC2</title>\n",
       "<ellipse fill=\"none\" stroke=\"black\" cx=\"135\" cy=\"-18\" rx=\"27.1\" ry=\"18\"/>\n",
       "<text text-anchor=\"middle\" x=\"135\" y=\"-14.3\" font-family=\"Times,serif\" font-size=\"14.00\">HC2</text>\n",
       "</g>\n",
       "<!-- HC2&#45;&gt;C1 -->\n",
       "<g id=\"edge5\" class=\"edge\">\n",
       "<title>HC2&#45;&gt;C1</title>\n",
       "<path fill=\"none\" stroke=\"black\" d=\"M116.19,-31.19C99,-42.33 73.38,-58.94 54.01,-71.5\"/>\n",
       "<polygon fill=\"black\" stroke=\"black\" points=\"52.08,-68.57 45.6,-76.95 55.89,-74.44 52.08,-68.57\"/>\n",
       "</g>\n",
       "<!-- HC2&#45;&gt;C3 -->\n",
       "<g id=\"edge6\" class=\"edge\">\n",
       "<title>HC2&#45;&gt;C3</title>\n",
       "<path fill=\"none\" stroke=\"black\" d=\"M126.65,-35.24C122.29,-43.72 116.85,-54.29 111.96,-63.8\"/>\n",
       "<polygon fill=\"black\" stroke=\"black\" points=\"108.77,-62.36 107.3,-72.85 114.99,-65.56 108.77,-62.36\"/>\n",
       "</g>\n",
       "<!-- HC2&#45;&gt;C2 -->\n",
       "<g id=\"edge7\" class=\"edge\">\n",
       "<title>HC2&#45;&gt;C2</title>\n",
       "<path fill=\"none\" stroke=\"black\" d=\"M143.35,-35.24C147.71,-43.72 153.15,-54.29 158.04,-63.8\"/>\n",
       "<polygon fill=\"black\" stroke=\"black\" points=\"155.01,-65.56 162.7,-72.85 161.23,-62.36 155.01,-65.56\"/>\n",
       "</g>\n",
       "<!-- Noise -->\n",
       "<g id=\"node7\" class=\"node\">\n",
       "<title>Noise</title>\n",
       "<ellipse fill=\"none\" stroke=\"black\" cx=\"247\" cy=\"-90\" rx=\"31.4\" ry=\"18\"/>\n",
       "<text text-anchor=\"middle\" x=\"247\" y=\"-86.3\" font-family=\"Times,serif\" font-size=\"14.00\">Noise</text>\n",
       "</g>\n",
       "<!-- Noise&#45;&gt;Predicted Target -->\n",
       "<g id=\"edge10\" class=\"edge\">\n",
       "<title>Noise&#45;&gt;Predicted Target</title>\n",
       "<path fill=\"none\" stroke=\"black\" d=\"M226.46,-103.84C210.43,-113.86 187.82,-127.99 169.09,-139.69\"/>\n",
       "<polygon fill=\"black\" stroke=\"black\" points=\"167.15,-136.78 160.52,-145.05 170.86,-142.72 167.15,-136.78\"/>\n",
       "</g>\n",
       "</g>\n",
       "</svg>\n"
      ],
      "text/plain": [
       "<graphviz.sources.Source at 0x2b2adfc40>"
      ]
     },
     "metadata": {},
     "output_type": "display_data"
    }
   ],
   "source": [
    "from shapflow.flow import build_feature_graph\n",
    "causal_links = CausalLinks()\n",
    "categorical_feature_names = list([])\n",
    "display_translator = translator(data['X_train'].columns, data['X_train'], data['X_train'])\n",
    "target_name = 'Predicted Target'\n",
    "feature_names = list(['C1', 'C2', 'C3', 'Noise'])\n",
    "\n",
    "def create_f(parents, m, **kwargs):\n",
    "    '''\n",
    "    assume m is a linear regression model from sklearn predict / predict_proba\n",
    "    parents are list of feature names\n",
    "    kwargs: keyword args that applies to the predict function\n",
    "    '''\n",
    "    def f_(*args):\n",
    "        return m(np.vstack(args).T)\n",
    "\n",
    "    return f_\n",
    "\n",
    "# def predictor(x):\n",
    "#     print(x)\n",
    "#     x = x[['C1', 'C2', 'C3', 'Noise']]\n",
    "#     return faux_model().predict(x)\n",
    "\n",
    "causal_links.add_causes_effects(feature_names, target_name, create_f(feature_names, faux_model.predict) )\n",
    "hidden_causes = ['HC1', 'HC2']\n",
    "effects = ['C1', 'C2', 'C3']\n",
    "causal_links.add_causes_effects(hidden_causes, effects)\n",
    "\n",
    "\n",
    "\n",
    "graph = build_feature_graph(data['X_train'], causal_links, categorical_feature_names, display_translator, target_name)\n",
    "graph.draw()"
   ]
  },
  {
   "cell_type": "code",
   "execution_count": 380,
   "metadata": {},
   "outputs": [
    {
     "data": {
      "text/plain": [
       "6"
      ]
     },
     "execution_count": 380,
     "metadata": {},
     "output_type": "execute_result"
    }
   ],
   "source": [
    "bg = pd.DataFrame(data['X_train'].mean(axis = 0)).T\n",
    "np.max(bg.shape)"
   ]
  },
  {
   "cell_type": "code",
   "execution_count": 374,
   "metadata": {},
   "outputs": [
    {
     "data": {
      "image/svg+xml": [
       "<?xml version=\"1.0\" encoding=\"UTF-8\" standalone=\"no\"?>\n",
       "<!DOCTYPE svg PUBLIC \"-//W3C//DTD SVG 1.1//EN\"\n",
       " \"http://www.w3.org/Graphics/SVG/1.1/DTD/svg11.dtd\">\n",
       "<!-- Generated by graphviz version 2.50.0 (0)\n",
       " -->\n",
       "<!-- Pages: 1 -->\n",
       "<svg width=\"286pt\" height=\"188pt\"\n",
       " viewBox=\"0.00 0.00 286.20 188.00\" xmlns=\"http://www.w3.org/2000/svg\" xmlns:xlink=\"http://www.w3.org/1999/xlink\">\n",
       "<g id=\"graph0\" class=\"graph\" transform=\"scale(1 1) rotate(0) translate(4 184)\">\n",
       "<polygon fill=\"white\" stroke=\"transparent\" points=\"-4,4 -4,-184 282.2,-184 282.2,4 -4,4\"/>\n",
       "<!-- C1 -->\n",
       "<g id=\"node1\" class=\"node\">\n",
       "<title>C1</title>\n",
       "<ellipse fill=\"none\" stroke=\"black\" cx=\"27\" cy=\"-90\" rx=\"27\" ry=\"18\"/>\n",
       "<text text-anchor=\"middle\" x=\"27\" y=\"-86.3\" font-family=\"Times,serif\" font-size=\"14.00\">C1</text>\n",
       "</g>\n",
       "<!-- Predicted Target -->\n",
       "<g id=\"node2\" class=\"node\">\n",
       "<title>Predicted Target</title>\n",
       "<ellipse fill=\"none\" stroke=\"black\" cx=\"135\" cy=\"-162\" rx=\"68.79\" ry=\"18\"/>\n",
       "<text text-anchor=\"middle\" x=\"135\" y=\"-158.3\" font-family=\"Times,serif\" font-size=\"14.00\">Predicted Target</text>\n",
       "</g>\n",
       "<!-- C1&#45;&gt;Predicted Target -->\n",
       "<g id=\"edge1\" class=\"edge\">\n",
       "<title>C1&#45;&gt;Predicted Target</title>\n",
       "<path fill=\"none\" stroke=\"black\" d=\"M45.81,-103.19C61.19,-113.16 83.3,-127.49 101.66,-139.39\"/>\n",
       "<polygon fill=\"black\" stroke=\"black\" points=\"100.03,-142.5 110.32,-145.01 103.84,-136.63 100.03,-142.5\"/>\n",
       "</g>\n",
       "<!-- HC1 -->\n",
       "<g id=\"node3\" class=\"node\">\n",
       "<title>HC1</title>\n",
       "<ellipse fill=\"none\" stroke=\"black\" cx=\"62\" cy=\"-18\" rx=\"27.1\" ry=\"18\"/>\n",
       "<text text-anchor=\"middle\" x=\"62\" y=\"-14.3\" font-family=\"Times,serif\" font-size=\"14.00\">HC1</text>\n",
       "</g>\n",
       "<!-- HC1&#45;&gt;C1 -->\n",
       "<g id=\"edge2\" class=\"edge\">\n",
       "<title>HC1&#45;&gt;C1</title>\n",
       "<path fill=\"none\" stroke=\"black\" d=\"M53.88,-35.24C49.7,-43.6 44.51,-53.98 39.8,-63.39\"/>\n",
       "<polygon fill=\"black\" stroke=\"black\" points=\"36.66,-61.86 35.32,-72.37 42.92,-64.99 36.66,-61.86\"/>\n",
       "</g>\n",
       "<!-- C3 -->\n",
       "<g id=\"node4\" class=\"node\">\n",
       "<title>C3</title>\n",
       "<ellipse fill=\"none\" stroke=\"black\" cx=\"99\" cy=\"-90\" rx=\"27\" ry=\"18\"/>\n",
       "<text text-anchor=\"middle\" x=\"99\" y=\"-86.3\" font-family=\"Times,serif\" font-size=\"14.00\">C3</text>\n",
       "</g>\n",
       "<!-- HC1&#45;&gt;C3 -->\n",
       "<g id=\"edge3\" class=\"edge\">\n",
       "<title>HC1&#45;&gt;C3</title>\n",
       "<path fill=\"none\" stroke=\"black\" d=\"M70.58,-35.24C75.06,-43.72 80.65,-54.29 85.68,-63.8\"/>\n",
       "<polygon fill=\"black\" stroke=\"black\" points=\"82.7,-65.65 90.46,-72.85 88.89,-62.38 82.7,-65.65\"/>\n",
       "</g>\n",
       "<!-- C2 -->\n",
       "<g id=\"node5\" class=\"node\">\n",
       "<title>C2</title>\n",
       "<ellipse fill=\"none\" stroke=\"black\" cx=\"171\" cy=\"-90\" rx=\"27\" ry=\"18\"/>\n",
       "<text text-anchor=\"middle\" x=\"171\" y=\"-86.3\" font-family=\"Times,serif\" font-size=\"14.00\">C2</text>\n",
       "</g>\n",
       "<!-- HC1&#45;&gt;C2 -->\n",
       "<g id=\"edge4\" class=\"edge\">\n",
       "<title>HC1&#45;&gt;C2</title>\n",
       "<path fill=\"none\" stroke=\"black\" d=\"M80.99,-31.19C98.34,-42.33 124.19,-58.94 143.74,-71.5\"/>\n",
       "<polygon fill=\"black\" stroke=\"black\" points=\"141.93,-74.49 152.23,-76.95 145.71,-68.6 141.93,-74.49\"/>\n",
       "</g>\n",
       "<!-- C3&#45;&gt;Predicted Target -->\n",
       "<g id=\"edge8\" class=\"edge\">\n",
       "<title>C3&#45;&gt;Predicted Target</title>\n",
       "<path fill=\"none\" stroke=\"black\" d=\"M107.35,-107.24C111.54,-115.39 116.73,-125.47 121.47,-134.69\"/>\n",
       "<polygon fill=\"black\" stroke=\"black\" points=\"118.51,-136.58 126.19,-143.88 124.73,-133.38 118.51,-136.58\"/>\n",
       "</g>\n",
       "<!-- C2&#45;&gt;Predicted Target -->\n",
       "<g id=\"edge9\" class=\"edge\">\n",
       "<title>C2&#45;&gt;Predicted Target</title>\n",
       "<path fill=\"none\" stroke=\"black\" d=\"M162.65,-107.24C158.46,-115.39 153.27,-125.47 148.53,-134.69\"/>\n",
       "<polygon fill=\"black\" stroke=\"black\" points=\"145.27,-133.38 143.81,-143.88 151.49,-136.58 145.27,-133.38\"/>\n",
       "</g>\n",
       "<!-- HC2 -->\n",
       "<g id=\"node6\" class=\"node\">\n",
       "<title>HC2</title>\n",
       "<ellipse fill=\"none\" stroke=\"black\" cx=\"135\" cy=\"-18\" rx=\"27.1\" ry=\"18\"/>\n",
       "<text text-anchor=\"middle\" x=\"135\" y=\"-14.3\" font-family=\"Times,serif\" font-size=\"14.00\">HC2</text>\n",
       "</g>\n",
       "<!-- HC2&#45;&gt;C1 -->\n",
       "<g id=\"edge5\" class=\"edge\">\n",
       "<title>HC2&#45;&gt;C1</title>\n",
       "<path fill=\"none\" stroke=\"black\" d=\"M116.19,-31.19C99,-42.33 73.38,-58.94 54.01,-71.5\"/>\n",
       "<polygon fill=\"black\" stroke=\"black\" points=\"52.08,-68.57 45.6,-76.95 55.89,-74.44 52.08,-68.57\"/>\n",
       "</g>\n",
       "<!-- HC2&#45;&gt;C3 -->\n",
       "<g id=\"edge6\" class=\"edge\">\n",
       "<title>HC2&#45;&gt;C3</title>\n",
       "<path fill=\"none\" stroke=\"black\" d=\"M126.65,-35.24C122.29,-43.72 116.85,-54.29 111.96,-63.8\"/>\n",
       "<polygon fill=\"black\" stroke=\"black\" points=\"108.77,-62.36 107.3,-72.85 114.99,-65.56 108.77,-62.36\"/>\n",
       "</g>\n",
       "<!-- HC2&#45;&gt;C2 -->\n",
       "<g id=\"edge7\" class=\"edge\">\n",
       "<title>HC2&#45;&gt;C2</title>\n",
       "<path fill=\"none\" stroke=\"black\" d=\"M143.35,-35.24C147.71,-43.72 153.15,-54.29 158.04,-63.8\"/>\n",
       "<polygon fill=\"black\" stroke=\"black\" points=\"155.01,-65.56 162.7,-72.85 161.23,-62.36 155.01,-65.56\"/>\n",
       "</g>\n",
       "<!-- Noise -->\n",
       "<g id=\"node7\" class=\"node\">\n",
       "<title>Noise</title>\n",
       "<ellipse fill=\"none\" stroke=\"black\" cx=\"247\" cy=\"-90\" rx=\"31.4\" ry=\"18\"/>\n",
       "<text text-anchor=\"middle\" x=\"247\" y=\"-86.3\" font-family=\"Times,serif\" font-size=\"14.00\">Noise</text>\n",
       "</g>\n",
       "<!-- Noise&#45;&gt;Predicted Target -->\n",
       "<g id=\"edge10\" class=\"edge\">\n",
       "<title>Noise&#45;&gt;Predicted Target</title>\n",
       "<path fill=\"none\" stroke=\"black\" d=\"M226.46,-103.84C210.43,-113.86 187.82,-127.99 169.09,-139.69\"/>\n",
       "<polygon fill=\"black\" stroke=\"black\" points=\"167.15,-136.78 160.52,-145.05 170.86,-142.72 167.15,-136.78\"/>\n",
       "</g>\n",
       "</g>\n",
       "</svg>\n"
      ],
      "text/plain": [
       "<graphviz.sources.Source at 0x2b4bd4ca0>"
      ]
     },
     "metadata": {},
     "output_type": "display_data"
    },
    {
     "name": "stderr",
     "output_type": "stream",
     "text": [
      "pandas.Int64Index is deprecated and will be removed from pandas in a future version. Use pandas.Index with the appropriate dtype instead.\n",
      "bruteforce sampling: 100%|██████████| 10/10 [00:00<00:00, 64.64it/s]\n"
     ]
    },
    {
     "data": {
      "image/svg+xml": [
       "<?xml version=\"1.0\" encoding=\"UTF-8\" standalone=\"no\"?>\n",
       "<!DOCTYPE svg PUBLIC \"-//W3C//DTD SVG 1.1//EN\"\n",
       " \"http://www.w3.org/Graphics/SVG/1.1/DTD/svg11.dtd\">\n",
       "<!-- Generated by graphviz version 2.50.0 (0)\n",
       " -->\n",
       "<!-- Pages: 1 -->\n",
       "<svg width=\"374pt\" height=\"239pt\"\n",
       " viewBox=\"0.00 0.00 374.20 239.00\" xmlns=\"http://www.w3.org/2000/svg\" xmlns:xlink=\"http://www.w3.org/1999/xlink\">\n",
       "<g id=\"graph0\" class=\"graph\" transform=\"scale(1 1) rotate(0) translate(4 235)\">\n",
       "<polygon fill=\"white\" stroke=\"transparent\" points=\"-4,4 -4,-235 370.2,-235 370.2,4 -4,4\"/>\n",
       "<!-- C3 -->\n",
       "<g id=\"node1\" class=\"node\">\n",
       "<title>C3</title>\n",
       "<ellipse fill=\"none\" stroke=\"black\" cx=\"339.2\" cy=\"-105\" rx=\"27\" ry=\"18\"/>\n",
       "<text text-anchor=\"middle\" x=\"339.2\" y=\"-101.3\" font-family=\"Times,serif\" font-size=\"14.00\">C3</text>\n",
       "</g>\n",
       "<!-- Predicted Target -->\n",
       "<g id=\"node2\" class=\"node\">\n",
       "<title>Predicted Target</title>\n",
       "<ellipse fill=\"none\" stroke=\"black\" cx=\"77.2\" cy=\"-18\" rx=\"68.79\" ry=\"18\"/>\n",
       "<text text-anchor=\"middle\" x=\"77.2\" y=\"-14.3\" font-family=\"Times,serif\" font-size=\"14.00\">Predicted Target</text>\n",
       "</g>\n",
       "<!-- C3&#45;&gt;Predicted Target -->\n",
       "<g id=\"edge1\" class=\"edge\">\n",
       "<title>C3&#45;&gt;Predicted Target</title>\n",
       "<path fill=\"none\" stroke=\"#008bfb\" stroke-width=\"2.33\" d=\"M317.2,-94.29C292.3,-83.53 250.34,-66.1 213.2,-54 188.75,-46.04 161.38,-38.7 137.63,-32.82\"/>\n",
       "<polygon fill=\"#008bfb\" stroke=\"#008bfb\" stroke-width=\"2.33\" points=\"138.23,-29.36 127.69,-30.39 136.57,-36.16 138.23,-29.36\"/>\n",
       "<text text-anchor=\"middle\" x=\"263.7\" y=\"-57.8\" font-family=\"Times,serif\" font-size=\"14.00\" fill=\"#008bfb\" fill-opacity=\"0.584314\">0.12</text>\n",
       "</g>\n",
       "<!-- Noise -->\n",
       "<g id=\"node3\" class=\"node\">\n",
       "<title>Noise</title>\n",
       "<ellipse fill=\"none\" stroke=\"black\" cx=\"31.2\" cy=\"-159\" rx=\"31.4\" ry=\"18\"/>\n",
       "<text text-anchor=\"middle\" x=\"31.2\" y=\"-155.3\" font-family=\"Times,serif\" font-size=\"14.00\">Noise</text>\n",
       "</g>\n",
       "<!-- Noise&#45;&gt;Predicted Target -->\n",
       "<g id=\"edge2\" class=\"edge\">\n",
       "<title>Noise&#45;&gt;Predicted Target</title>\n",
       "<path fill=\"none\" stroke=\"#008bfb\" stroke-width=\"0.05\" d=\"M36.75,-141.23C44.58,-117.57 58.96,-74.11 68.29,-45.9\"/>\n",
       "<polygon fill=\"#008bfb\" stroke=\"#008bfb\" stroke-width=\"0.05\" points=\"71.67,-46.86 71.48,-36.26 65.02,-44.66 71.67,-46.86\"/>\n",
       "<text text-anchor=\"middle\" x=\"66.7\" y=\"-101.3\" font-family=\"Times,serif\" font-size=\"14.00\" fill=\"#008bfb\" fill-opacity=\"0.235294\">0.00</text>\n",
       "</g>\n",
       "<!-- C2 -->\n",
       "<g id=\"node4\" class=\"node\">\n",
       "<title>C2</title>\n",
       "<ellipse fill=\"none\" stroke=\"black\" cx=\"255.2\" cy=\"-105\" rx=\"27\" ry=\"18\"/>\n",
       "<text text-anchor=\"middle\" x=\"255.2\" y=\"-101.3\" font-family=\"Times,serif\" font-size=\"14.00\">C2</text>\n",
       "</g>\n",
       "<!-- C2&#45;&gt;Predicted Target -->\n",
       "<g id=\"edge3\" class=\"edge\">\n",
       "<title>C2&#45;&gt;Predicted Target</title>\n",
       "<path fill=\"none\" stroke=\"#008bfb\" stroke-width=\"5\" d=\"M233.94,-93.56C213.14,-83.38 180.55,-67.5 152.2,-54 141.46,-48.89 129.83,-43.42 119,-38.37\"/>\n",
       "<polygon fill=\"#008bfb\" stroke=\"#008bfb\" stroke-width=\"5\" points=\"120.65,-34.31 109.73,-34.05 116.95,-42.24 120.65,-34.31\"/>\n",
       "<text text-anchor=\"middle\" x=\"196.7\" y=\"-57.8\" font-family=\"Times,serif\" font-size=\"14.00\" fill=\"#008bfb\">0.26</text>\n",
       "</g>\n",
       "<!-- HC2 -->\n",
       "<g id=\"node5\" class=\"node\">\n",
       "<title>HC2</title>\n",
       "<ellipse fill=\"none\" stroke=\"black\" cx=\"189.2\" cy=\"-213\" rx=\"27.1\" ry=\"18\"/>\n",
       "<text text-anchor=\"middle\" x=\"189.2\" y=\"-209.3\" font-family=\"Times,serif\" font-size=\"14.00\">HC2</text>\n",
       "</g>\n",
       "<!-- HC2&#45;&gt;C3 -->\n",
       "<g id=\"edge4\" class=\"edge\">\n",
       "<title>HC2&#45;&gt;C3</title>\n",
       "<path fill=\"none\" stroke=\"#008bfb\" stroke-width=\"0.07\" d=\"M216.62,-211.55C244.86,-209.63 288.4,-202.36 315.2,-177 327.21,-165.63 333.21,-148.04 336.21,-133.21\"/>\n",
       "<polygon fill=\"#008bfb\" stroke=\"#008bfb\" stroke-width=\"0.07\" points=\"339.71,-133.47 337.9,-123.04 332.81,-132.33 339.71,-133.47\"/>\n",
       "<text text-anchor=\"middle\" x=\"345.7\" y=\"-155.3\" font-family=\"Times,serif\" font-size=\"14.00\" fill=\"#008bfb\" fill-opacity=\"0.235294\">0.00</text>\n",
       "</g>\n",
       "<!-- HC2&#45;&gt;C2 -->\n",
       "<g id=\"edge5\" class=\"edge\">\n",
       "<title>HC2&#45;&gt;C2</title>\n",
       "<path fill=\"none\" stroke=\"#008bfb\" stroke-width=\"0.08\" d=\"M216.4,-209.75C237.95,-206.38 266.74,-197.96 281.2,-177 290.28,-163.83 286.22,-156.19 281.2,-141 279.81,-136.8 277.69,-132.69 275.26,-128.85\"/>\n",
       "<polygon fill=\"#008bfb\" stroke=\"#008bfb\" stroke-width=\"0.08\" points=\"277.89,-126.51 269.2,-120.46 272.22,-130.61 277.89,-126.51\"/>\n",
       "<text text-anchor=\"middle\" x=\"298.7\" y=\"-155.3\" font-family=\"Times,serif\" font-size=\"14.00\" fill=\"#008bfb\" fill-opacity=\"0.239216\">0.00</text>\n",
       "</g>\n",
       "<!-- C1 -->\n",
       "<g id=\"node6\" class=\"node\">\n",
       "<title>C1</title>\n",
       "<ellipse fill=\"none\" stroke=\"black\" cx=\"159.2\" cy=\"-105\" rx=\"27\" ry=\"18\"/>\n",
       "<text text-anchor=\"middle\" x=\"159.2\" y=\"-101.3\" font-family=\"Times,serif\" font-size=\"14.00\">C1</text>\n",
       "</g>\n",
       "<!-- HC2&#45;&gt;C1 -->\n",
       "<g id=\"edge6\" class=\"edge\">\n",
       "<title>HC2&#45;&gt;C1</title>\n",
       "<path fill=\"none\" stroke=\"#008bfb\" stroke-width=\"0.07\" d=\"M190.16,-194.84C190.43,-180.13 189.47,-158.59 183.2,-141 181.82,-137.13 179.9,-133.28 177.74,-129.64\"/>\n",
       "<polygon fill=\"#008bfb\" stroke=\"#008bfb\" stroke-width=\"0.07\" points=\"180.51,-127.47 172.06,-121.07 174.67,-131.34 180.51,-127.47\"/>\n",
       "<text text-anchor=\"middle\" x=\"202.7\" y=\"-155.3\" font-family=\"Times,serif\" font-size=\"14.00\" fill=\"#008bfb\" fill-opacity=\"0.235294\">0.00</text>\n",
       "</g>\n",
       "<!-- C1&#45;&gt;Predicted Target -->\n",
       "<g id=\"edge7\" class=\"edge\">\n",
       "<title>C1&#45;&gt;Predicted Target</title>\n",
       "<path fill=\"none\" stroke=\"#008bfb\" stroke-width=\"3.43\" d=\"M144.91,-89.19C132.64,-76.48 114.72,-57.9 100.4,-43.05\"/>\n",
       "<polygon fill=\"#008bfb\" stroke=\"#008bfb\" stroke-width=\"3.43\" points=\"102.74,-40.44 93.28,-35.67 97.71,-45.3 102.74,-40.44\"/>\n",
       "<text text-anchor=\"middle\" x=\"135.7\" y=\"-57.8\" font-family=\"Times,serif\" font-size=\"14.00\" fill=\"#008bfb\" fill-opacity=\"0.756863\">0.18</text>\n",
       "</g>\n",
       "<!-- HC1 -->\n",
       "<g id=\"node7\" class=\"node\">\n",
       "<title>HC1</title>\n",
       "<ellipse fill=\"none\" stroke=\"black\" cx=\"110.2\" cy=\"-213\" rx=\"27.1\" ry=\"18\"/>\n",
       "<text text-anchor=\"middle\" x=\"110.2\" y=\"-209.3\" font-family=\"Times,serif\" font-size=\"14.00\">HC1</text>\n",
       "</g>\n",
       "<!-- HC1&#45;&gt;C3 -->\n",
       "<g id=\"edge8\" class=\"edge\">\n",
       "<title>HC1&#45;&gt;C3</title>\n",
       "<path fill=\"none\" stroke=\"#008bfb\" stroke-width=\"0.19\" d=\"M132.79,-202.53C139.32,-199.94 146.49,-197.23 153.2,-195 182.05,-185.4 193.24,-192.83 219.2,-177 237.73,-165.7 234.35,-153.36 252.2,-141 261.38,-134.64 285.73,-125.04 306.34,-117.5\"/>\n",
       "<polygon fill=\"#008bfb\" stroke=\"#008bfb\" stroke-width=\"0.19\" points=\"307.56,-120.78 315.77,-114.09 305.18,-114.2 307.56,-120.78\"/>\n",
       "<text text-anchor=\"middle\" x=\"264.7\" y=\"-155.3\" font-family=\"Times,serif\" font-size=\"14.00\" fill=\"#008bfb\" fill-opacity=\"0.254902\">0.01</text>\n",
       "</g>\n",
       "<!-- HC1&#45;&gt;C2 -->\n",
       "<g id=\"edge9\" class=\"edge\">\n",
       "<title>HC1&#45;&gt;C2</title>\n",
       "<path fill=\"none\" stroke=\"#008bfb\" stroke-width=\"0.18\" d=\"M120.32,-196C124.06,-190.04 128.34,-183.22 132.2,-177 142.08,-161.06 139.59,-152.76 154.2,-141 164.68,-132.56 195.7,-122.45 220.62,-115.27\"/>\n",
       "<polygon fill=\"#008bfb\" stroke=\"#008bfb\" stroke-width=\"0.18\" points=\"221.83,-118.57 230.5,-112.48 219.93,-111.83 221.83,-118.57\"/>\n",
       "<text text-anchor=\"middle\" x=\"166.7\" y=\"-155.3\" font-family=\"Times,serif\" font-size=\"14.00\" fill=\"#008bfb\" fill-opacity=\"0.254902\">0.01</text>\n",
       "</g>\n",
       "<!-- HC1&#45;&gt;C1 -->\n",
       "<g id=\"edge10\" class=\"edge\">\n",
       "<title>HC1&#45;&gt;C1</title>\n",
       "<path fill=\"none\" stroke=\"#008bfb\" stroke-width=\"0.42\" d=\"M104.9,-195.16C101.17,-180.06 98.27,-157.77 107.2,-141 111.78,-132.39 119.52,-125.52 127.65,-120.23\"/>\n",
       "<polygon fill=\"#008bfb\" stroke=\"#008bfb\" stroke-width=\"0.42\" points=\"129.61,-123.14 136.5,-115.1 126.09,-117.09 129.61,-123.14\"/>\n",
       "<text text-anchor=\"middle\" x=\"119.7\" y=\"-155.3\" font-family=\"Times,serif\" font-size=\"14.00\" fill=\"#008bfb\" fill-opacity=\"0.290196\">0.02</text>\n",
       "</g>\n",
       "</g>\n",
       "</svg>\n"
      ],
      "text/plain": [
       "<graphviz.sources.Source at 0x2b4a01af0>"
      ]
     },
     "metadata": {},
     "output_type": "display_data"
    },
    {
     "data": {
      "text/plain": [
       "array([0.17515739, 0.25638463, 0.11815661, 0.        ])"
      ]
     },
     "execution_count": 374,
     "metadata": {},
     "output_type": "execute_result"
    }
   ],
   "source": [
    "# View graphviz graph\n",
    "graph.draw()\n",
    "def explainer(bg, graph = graph, fg = data['X_test'], **kwargs):\n",
    "    explanations = GraphExplainer(graph, pd.DataFrame(bg).T, **kwargs).shap_values(fg)\n",
    "    shap_values = pd.DataFrame(node_dict2str_dict(explanations.edge_credit)).applymap(lambda x: np.mean(np.abs(x)))\n",
    "    shap_values = shap_values.sort_index(axis = 1)\n",
    "    print(shap_values)\n",
    "    return shap_values.Predicted_Target\n",
    "\n",
    "# values = data['X_train'].apply(explainer, axis = 1, nruns = 1)\n",
    "# values\n",
    "\n",
    "explanations = GraphExplainer(graph, bg, nruns=1000).shap_values(data['X_test'])\n",
    "explanations.draw()\n",
    "shap_values = pd.DataFrame(node_dict2str_dict(explanations.edge_credit)).applymap(lambda x: np.mean(np.abs(x)))\n",
    "shap_values = shap_values.sort_index(axis = 1)[['C1', 'C2', 'C3', 'Noise']].iloc[0].to_numpy()\n",
    "shap_values\n",
    " "
   ]
  },
  {
   "cell_type": "code",
   "execution_count": 329,
   "metadata": {},
   "outputs": [
    {
     "data": {
      "text/plain": [
       "Unnamed: 0\n",
       "C1       0.69\n",
       "C2       0.83\n",
       "C3       0.55\n",
       "Noise    0.19\n",
       "Name: 3_vars_corr_2HC_n100.csv, dtype: float64"
      ]
     },
     "execution_count": 329,
     "metadata": {},
     "output_type": "execute_result"
    }
   ],
   "source": [
    "ground = pd.read_csv('/Users/eddie/Library/CloudStorage/OneDrive-UniversityofPittsburgh/Research/Projects/Explainability Method Comparison/Data-ML-XAI-Eval/Synthetic Data/GroundTruth.csv')\n",
    "ground = ground.set_index('Unnamed: 0')\n",
    "ground['3_vars_corr_2HC_n100.csv'].round(2)"
   ]
  }
 ],
 "metadata": {
  "kernelspec": {
   "display_name": "python_env",
   "language": "python",
   "name": "python3"
  },
  "language_info": {
   "codemirror_mode": {
    "name": "ipython",
    "version": 3
   },
   "file_extension": ".py",
   "mimetype": "text/x-python",
   "name": "python",
   "nbconvert_exporter": "python",
   "pygments_lexer": "ipython3",
   "version": "3.8.16"
  },
  "orig_nbformat": 4
 },
 "nbformat": 4,
 "nbformat_minor": 2
}
